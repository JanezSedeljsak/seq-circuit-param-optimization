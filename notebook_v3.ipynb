{
 "cells": [
  {
   "cell_type": "markdown",
   "metadata": {},
   "source": [
    "# Visualization of evaluators\n",
    "\n",
    "Visualization of evaluators over time. X-axis represents the current generation, Y-axis represents the actual values."
   ]
  },
  {
   "cell_type": "code",
   "execution_count": 1,
   "metadata": {},
   "outputs": [],
   "source": [
    "from algorithms import *\n",
    "from evaluators import *\n",
    "import matplotlib.pyplot as plt\n",
    "import numpy as np\n",
    "import warnings\n",
    "\n",
    "np.random.seed(42)\n",
    "warnings.filterwarnings(\"ignore\")"
   ]
  },
  {
   "cell_type": "markdown",
   "metadata": {},
   "source": [
    "## Visualization definition"
   ]
  },
  {
   "cell_type": "code",
   "execution_count": 2,
   "metadata": {},
   "outputs": [],
   "source": [
    "def visualize_fitness(optimizer: object):\n",
    "\n",
    "    all_generations = []\n",
    "    all_fitness = []\n",
    "    for i in range(1, 6):\n",
    "        # If file is not found, stop the loop\n",
    "        try:\n",
    "            all_generations.append(np.loadtxt(f\"drawer/data/export_{optimizer.__class__.__name__}_generations_{i}.csv\", delimiter=\",\")[:, 0])\n",
    "            \n",
    "            fitness = np.loadtxt(f\"drawer/data/export_{optimizer.__class__.__name__}_generations_{i}.csv\", delimiter=\",\")[:, 1]\n",
    "            # Replace all nan values with 0.5\n",
    "            fitness = np.nan_to_num(fitness, nan=0.5)\n",
    "            if optimizer.__class__.__name__ == \"GreyWolfOptimizer\" or optimizer.__class__.__name__ == \"WhaleOptimizationAlgorithm\":\n",
    "                fitness = 1 - fitness / np.max(fitness)\n",
    "            else:   \n",
    "                fitness = 1 - fitness / np.min(fitness)\n",
    "            \n",
    "            all_fitness.append(fitness)\n",
    "            #all_fitness.append(np.loadtxt(f\"drawer/data/export_{optimizer.__class__.__name__}_generations_{i}.csv\", delimiter=\",\")[:, 1])\n",
    "        except:\n",
    "            print(\"Stopping loop at i = \", i, \" because file was not found\")\n",
    "            break\n",
    "\n",
    "    fig, axes = plt.subplots(1, 1, sharey=True)\n",
    "\n",
    "    for i, fitness in enumerate(all_fitness):\n",
    "        axes.plot(all_generations[i], fitness, color=\"black\", alpha = 0.25)\n",
    "\n",
    "    mean_fitness = np.mean(all_fitness, axis=0)\n",
    "    std_fitness = np.std(all_fitness, axis=0)\n",
    "    fitness_low = mean_fitness - 1.96 * std_fitness\n",
    "    fitness_high = mean_fitness + 1.96 * std_fitness\n",
    "\n",
    "    # Plot the fitness over the number of generations\n",
    "    axes.plot(all_generations[0], mean_fitness, color=\"red\", alpha=1, label='mean fitness')\n",
    "    axes.fill_between(all_generations[0], fitness_low, fitness_high, color='red', alpha=0.05)\n",
    "\n",
    "    axes.set_ylim([0, 1])\n",
    "    plt.xlabel(\"Number of generations\")\n",
    "    plt.ylabel(\"Fitness\")\n",
    "    plt.title(f\"{optimizer.__class__.__name__} -  best fitnesses\")\n",
    "    plt.legend()\n",
    "    plt.show()"
   ]
  },
  {
   "cell_type": "markdown",
   "metadata": {},
   "source": [
    "## Grey Wolf optimziation visualization"
   ]
  },
  {
   "cell_type": "code",
   "execution_count": 3,
   "metadata": {},
   "outputs": [
    {
     "name": "stdout",
     "output_type": "stream",
     "text": [
      "Hyper search start [steps=8]\n"
     ]
    },
    {
     "data": {
      "application/vnd.jupyter.widget-view+json": {
       "model_id": "5dd832bd0be6427ab8773383b11ba57b",
       "version_major": 2,
       "version_minor": 0
      },
      "text/plain": [
       "  0%|          | 0/4 [00:00<?, ?it/s]"
      ]
     },
     "metadata": {},
     "output_type": "display_data"
    },
    {
     "data": {
      "application/vnd.jupyter.widget-view+json": {
       "model_id": "4c2a00e7db214f25b477d81e1e2053e5",
       "version_major": 2,
       "version_minor": 0
      },
      "text/plain": [
       "  0%|          | 0/2 [00:00<?, ?it/s]"
      ]
     },
     "metadata": {},
     "output_type": "display_data"
    },
    {
     "data": {
      "application/vnd.jupyter.widget-view+json": {
       "model_id": "04c91cd6c7034cdda218cf1b5e833141",
       "version_major": 2,
       "version_minor": 0
      },
      "text/plain": [
       "  0%|          | 0/2 [00:00<?, ?it/s]"
      ]
     },
     "metadata": {},
     "output_type": "display_data"
    },
    {
     "name": "stdout",
     "output_type": "stream",
     "text": [
      "Converged after 3\n",
      "Hyper parameters {'population': 10} Best seed 42\n"
     ]
    }
   ],
   "source": [
    "gw_param_options = {\n",
    "    'population': [10, 15]\n",
    "}\n",
    "\n",
    "gw_hyper = HyperSearch(GreyWolfOptimizer, GoalEvaluator, is_export=True).execute(**gw_param_options)\n",
    "print(\"Hyper parameters\", gw_hyper.best_params, \"Best seed\", gw_hyper.best_seed)"
   ]
  },
  {
   "cell_type": "markdown",
   "metadata": {},
   "source": []
  },
  {
   "cell_type": "code",
   "execution_count": 4,
   "metadata": {},
   "outputs": [
    {
     "name": "stdout",
     "output_type": "stream",
     "text": [
      "This algorithm is:  type\n",
      "[1] Best Fitness: 1500000\n",
      "[2] Best Fitness: 1400000\n",
      "[17] Best Fitness: 1000000\n",
      "[22] Best Fitness: 130502.87622207374\n",
      "[27] Best Fitness: 127132.47174264313\n",
      "[31] Best Fitness: 126972.8676989085\n",
      "Best Fitness: 126972.8676989085\n",
      "Exporting to file:  drawer/data/export_GreyWolfOptimizer_generations_1.csv\n",
      "This algorithm is:  type\n",
      "[1] Best Fitness: 1500000\n",
      "[5] Best Fitness: 1300000\n",
      "[9] Best Fitness: 1000000\n",
      "[17] Best Fitness: 57235.67606561278\n",
      "[51] Best Fitness: 17708.114390306677\n",
      "[53] Best Fitness: 3391.8206371558645\n",
      "[65] Best Fitness: 1092.098245427129\n",
      "Best Fitness: 1092.098245427129\n",
      "Exporting to file:  drawer/data/export_GreyWolfOptimizer_generations_2.csv\n",
      "This algorithm is:  type\n",
      "[1] Best Fitness: 1500000\n",
      "[2] Best Fitness: 1300000\n",
      "[21] Best Fitness: 960981.6156046505\n",
      "[22] Best Fitness: 405389.2752871009\n",
      "[24] Best Fitness: 26237.421235979287\n",
      "[28] Best Fitness: 7016.709096829471\n",
      "Best Fitness: 7016.709096829471\n",
      "Exporting to file:  drawer/data/export_GreyWolfOptimizer_generations_3.csv\n"
     ]
    },
    {
     "data": {
      "text/plain": [
       "[<evaluators.goal_evaluator.GoalEvaluator at 0x155e61988e0>,\n",
       " <evaluators.goal_evaluator.GoalEvaluator at 0x155ffed0100>,\n",
       " <evaluators.goal_evaluator.GoalEvaluator at 0x155ffed0460>]"
      ]
     },
     "execution_count": 4,
     "metadata": {},
     "output_type": "execute_result"
    }
   ],
   "source": [
    "gw_hyper.optimize_top5(gw_hyper.best_params['population'], 100)"
   ]
  },
  {
   "cell_type": "code",
   "execution_count": 5,
   "metadata": {},
   "outputs": [
    {
     "name": "stdout",
     "output_type": "stream",
     "text": [
      "Stopping loop at i =  4  because file was not found\n"
     ]
    },
    {
     "data": {
      "image/png": "[encoded data removed]",
      "text/plain": [
       "<Figure size 640x480 with 1 Axes>"
      ]
     },
     "metadata": {},
     "output_type": "display_data"
    }
   ],
   "source": [
    "visualize_fitness(GreyWolfOptimizer(GoalEvaluator))"
   ]
  },
  {
   "cell_type": "markdown",
   "metadata": {},
   "source": [
    "## Whale optimization algorithm visualization"
   ]
  },
  {
   "cell_type": "code",
   "execution_count": 6,
   "metadata": {},
   "outputs": [
    {
     "name": "stdout",
     "output_type": "stream",
     "text": [
      "Hyper search start [steps=24]\n"
     ]
    },
    {
     "data": {
      "application/vnd.jupyter.widget-view+json": {
       "model_id": "8831169480aa45f0bb7403b1adff46c1",
       "version_major": 2,
       "version_minor": 0
      },
      "text/plain": [
       "  0%|          | 0/4 [00:00<?, ?it/s]"
      ]
     },
     "metadata": {},
     "output_type": "display_data"
    },
    {
     "data": {
      "application/vnd.jupyter.widget-view+json": {
       "model_id": "5db492e41e97412ca2e7883b083ce52c",
       "version_major": 2,
       "version_minor": 0
      },
      "text/plain": [
       "  0%|          | 0/6 [00:00<?, ?it/s]"
      ]
     },
     "metadata": {},
     "output_type": "display_data"
    },
    {
     "name": "stdout",
     "output_type": "stream",
     "text": [
      "Converged after 3\n",
      "Hyper parameters {'mutation_strength': 0.25, 'population': 10} Best seed 1\n"
     ]
    }
   ],
   "source": [
    "woa_param_options = {\n",
    "    'generations': 15,\n",
    "    'mutation_strength': np.linspace(0.1, 0.4, 3),\n",
    "    'population': [10, 15]\n",
    "}\n",
    "\n",
    "woa_hyper = HyperSearch(WhaleOptimizationAlgorithm, GoalEvaluator, is_export=True).execute(**woa_param_options)\n",
    "print(\"Hyper parameters\", woa_hyper.best_params, \"Best seed\", woa_hyper.best_seed)"
   ]
  },
  {
   "cell_type": "code",
   "execution_count": 7,
   "metadata": {},
   "outputs": [
    {
     "name": "stdout",
     "output_type": "stream",
     "text": [
      "This algorithm is:  type\n",
      "[1] Best Fitness: 1500000\n",
      "[2] Best Fitness: 1400000\n",
      "[3] Best Fitness: 1300000\n",
      "[9] Best Fitness: 1000000\n",
      "[14] Best Fitness: 716150.9684921894\n",
      "[40] Best Fitness: 548507.6520574682\n",
      "[79] Best Fitness: 165692.042250562\n",
      "[80] Best Fitness: 3284.2711013230164\n",
      "[82] Best Fitness: 568.5543293358985\n",
      "[83] Best Fitness: 0.11752588050532681\n",
      "[84] Best Fitness: 0.009430743782760194\n",
      "[94] Best Fitness: 0.0076312982327051216\n",
      "[95] Best Fitness: 0.0009094737832532647\n",
      "Best Fitness: 0.0009094737832532647\n",
      "Exporting to file:  drawer/data/export_WhaleOptimizationAlgorithm_generations_1.csv\n",
      "This algorithm is:  type\n",
      "[1] Best Fitness: 1500000\n",
      "[2] Best Fitness: 1400000\n",
      "[3] Best Fitness: 1300000\n",
      "[7] Best Fitness: 1000000\n",
      "[13] Best Fitness: 108368.579255647\n",
      "[17] Best Fitness: 25.23946259986458\n",
      "[18] Best Fitness: 4.213986983803843\n",
      "[21] Best Fitness: 3.51530235190009\n",
      "[55] Best Fitness: 2.7845321635009674\n",
      "[56] Best Fitness: 2.4621127496765265\n",
      "[57] Best Fitness: 1.6636526126716755\n",
      "[65] Best Fitness: 0.7127917372126721\n",
      "[73] Best Fitness: 0.3064941708865231\n",
      "[74] Best Fitness: 0.21627265296180664\n",
      "[75] Best Fitness: 0.19629003670375655\n",
      "[77] Best Fitness: 0.1297185546716212\n",
      "[78] Best Fitness: 0.08158772934649461\n",
      "[81] Best Fitness: 0.052404218066326114\n",
      "[82] Best Fitness: 0.01839984920041333\n",
      "Best Fitness: 0.01839984920041333\n",
      "Exporting to file:  drawer/data/export_WhaleOptimizationAlgorithm_generations_2.csv\n",
      "This algorithm is:  type\n",
      "[1] Best Fitness: 1500000\n",
      "[3] Best Fitness: 1400000\n",
      "[5] Best Fitness: 1300000\n",
      "[8] Best Fitness: 1000000\n",
      "[9] Best Fitness: 30227.614932410605\n",
      "[11] Best Fitness: 11865.289160064996\n",
      "[13] Best Fitness: 6120.556118998387\n",
      "[14] Best Fitness: 202.44790431563624\n",
      "[15] Best Fitness: 24.240927868737195\n",
      "[16] Best Fitness: 18.56952468150518\n",
      "[17] Best Fitness: 2.6584836197894255\n",
      "[18] Best Fitness: 0.34204915831566257\n",
      "[22] Best Fitness: 0.12035021100942564\n",
      "Best Fitness: 0.12035021100942564\n",
      "Exporting to file:  drawer/data/export_WhaleOptimizationAlgorithm_generations_3.csv\n"
     ]
    }
   ],
   "source": [
    "woa_evaluator = woa_hyper.optimize_top5(woa_hyper.best_params['population'], 200)"
   ]
  },
  {
   "cell_type": "code",
   "execution_count": 8,
   "metadata": {},
   "outputs": [
    {
     "name": "stdout",
     "output_type": "stream",
     "text": [
      "Stopping loop at i =  4  because file was not found\n"
     ]
    },
    {
     "data": {
      "image/png": "[encoded data removed]",
      "text/plain": [
       "<Figure size 640x480 with 1 Axes>"
      ]
     },
     "metadata": {},
     "output_type": "display_data"
    }
   ],
   "source": [
    "visualize_fitness(WhaleOptimizationAlgorithm(GoalEvaluator))"
   ]
  },
  {
   "cell_type": "markdown",
   "metadata": {},
   "source": [
    "## Genetic Algorithm visualization"
   ]
  },
  {
   "cell_type": "code",
   "execution_count": 9,
   "metadata": {},
   "outputs": [
    {
     "name": "stdout",
     "output_type": "stream",
     "text": [
      "Hyper search start [steps=32]\n"
     ]
    },
    {
     "data": {
      "application/vnd.jupyter.widget-view+json": {
       "model_id": "3674b13420434f55bd1ba9966a8098cd",
       "version_major": 2,
       "version_minor": 0
      },
      "text/plain": [
       "  0%|          | 0/4 [00:00<?, ?it/s]"
      ]
     },
     "metadata": {},
     "output_type": "display_data"
    },
    {
     "data": {
      "application/vnd.jupyter.widget-view+json": {
       "model_id": "b9b68915f6bd47dfa1fa175c9623f795",
       "version_major": 2,
       "version_minor": 0
      },
      "text/plain": [
       "  0%|          | 0/8 [00:00<?, ?it/s]"
      ]
     },
     "metadata": {},
     "output_type": "display_data"
    },
    {
     "data": {
      "application/vnd.jupyter.widget-view+json": {
       "model_id": "675bf2e78c1948afa87b4b02603f0f2e",
       "version_major": 2,
       "version_minor": 0
      },
      "text/plain": [
       "  0%|          | 0/8 [00:00<?, ?it/s]"
      ]
     },
     "metadata": {},
     "output_type": "display_data"
    },
    {
     "data": {
      "application/vnd.jupyter.widget-view+json": {
       "model_id": "d3383a2d6d5b4ef5a4c2753dbbb5aa2b",
       "version_major": 2,
       "version_minor": 0
      },
      "text/plain": [
       "  0%|          | 0/8 [00:00<?, ?it/s]"
      ]
     },
     "metadata": {},
     "output_type": "display_data"
    },
    {
     "data": {
      "application/vnd.jupyter.widget-view+json": {
       "model_id": "6f8eb93bd4684deb849ae906ce9494b6",
       "version_major": 2,
       "version_minor": 0
      },
      "text/plain": [
       "  0%|          | 0/8 [00:00<?, ?it/s]"
      ]
     },
     "metadata": {},
     "output_type": "display_data"
    },
    {
     "name": "stdout",
     "output_type": "stream",
     "text": [
      "Hyper parameters {'elite_percentage': 0.15, 'mutation_rate': 0.5, 'population': 20} Best seed 555\n"
     ]
    }
   ],
   "source": [
    "ga_param_options = {\n",
    "    'generations': 10,\n",
    "    'population': [15, 20],\n",
    "    'mutation_rate': np.linspace(0.05, 0.5, 4),\n",
    "    'elite_percentage': [0.15]\n",
    "}\n",
    "\n",
    "ga_hyper = HyperSearch(GeneticAlgorithm, GoalEvaluator, is_export=True).execute(**ga_param_options)\n",
    "print(\"Hyper parameters\", ga_hyper.best_params, \"Best seed\", ga_hyper.best_seed)"
   ]
  },
  {
   "cell_type": "code",
   "execution_count": 10,
   "metadata": {},
   "outputs": [
    {
     "name": "stdout",
     "output_type": "stream",
     "text": [
      "This algorithm is:  type\n",
      "[0] Update best with -1500000.00000\n",
      "[1] Update best with -1300000.00000\n",
      "[4] Update best with -1000000.00000\n",
      "[11] Update best with -257403.60396\n",
      "[15] Update best with -181096.47654\n",
      "[19] Update best with -158135.35521\n",
      "[22] Update best with -68425.31516\n",
      "[23] Update best with -48899.61460\n",
      "[24] Update best with -29613.15041\n",
      "[26] Update best with -1388.75594\n",
      "[39] Update best with -1382.57442\n",
      "[42] Update best with -1381.36988\n",
      "[48] Update best with -1377.45918\n",
      "[52] Update best with -1376.04982\n",
      "[54] Update best with -1372.80926\n",
      "Exporting to file:  drawer/data/export_GeneticAlgorithm_generations_1.csv\n",
      "This algorithm is:  type\n",
      "[0] Update best with -1500000.00000\n",
      "[10] Update best with -1400000.00000\n",
      "[18] Update best with -1000000.00000\n",
      "[34] Update best with -88158.26783\n",
      "[35] Update best with -30791.09590\n",
      "[41] Update best with -8723.14346\n",
      "[45] Update best with -1498.69889\n",
      "[47] Update best with -1498.04105\n",
      "[49] Update best with -1497.61227\n",
      "[54] Update best with -1487.92483\n",
      "[57] Update best with -1485.65739\n",
      "[58] Update best with -1482.88856\n",
      "[63] Update best with -1378.02837\n",
      "[84] Update best with -1364.81173\n",
      "Exporting to file:  drawer/data/export_GeneticAlgorithm_generations_2.csv\n",
      "This algorithm is:  type\n",
      "[0] Update best with -1500000.00000\n",
      "[1] Update best with -1000000.00000\n",
      "[16] Update best with -79835.10213\n",
      "[18] Update best with -45330.97929\n",
      "[21] Update best with -5914.43665\n",
      "[22] Update best with -3554.00254\n",
      "[24] Update best with -2397.08203\n",
      "[26] Update best with -1385.90285\n",
      "[27] Update best with -1293.11553\n",
      "[29] Update best with -1062.11781\n",
      "[41] Update best with -1009.13002\n",
      "[45] Update best with -1001.32300\n",
      "[47] Update best with -1000.31736\n",
      "[50] Update best with -992.25295\n",
      "[59] Update best with -992.02355\n",
      "[60] Update best with -990.12659\n",
      "[69] Update best with -984.44583\n",
      "[73] Update best with -981.70038\n",
      "[74] Update best with -978.70207\n",
      "[79] Update best with -971.01807\n",
      "[99] Update best with -970.30738\n",
      "Exporting to file:  drawer/data/export_GeneticAlgorithm_generations_3.csv\n",
      "This algorithm is:  type\n",
      "[0] Update best with -1500000.00000\n",
      "[9] Update best with -1300000.00000\n",
      "[19] Update best with -1000000.00000\n",
      "[26] Update best with -56792.37062\n",
      "[29] Update best with -2671.41834\n",
      "[34] Update best with -2641.06843\n",
      "[38] Update best with -1237.70442\n",
      "[49] Update best with -1224.74791\n",
      "[52] Update best with -1215.63470\n",
      "[54] Update best with -1168.26337\n",
      "[58] Update best with -1161.01042\n",
      "[64] Update best with -1069.49999\n",
      "[66] Update best with -1064.88860\n",
      "[68] Update best with -1052.74077\n",
      "[72] Update best with -1047.45036\n",
      "[79] Update best with -1020.41491\n",
      "[81] Update best with -961.44407\n",
      "[92] Update best with -954.24563\n",
      "Exporting to file:  drawer/data/export_GeneticAlgorithm_generations_4.csv\n",
      "This algorithm is:  type\n",
      "[0] Update best with -1000000.00000\n",
      "[6] Update best with -44826.46787\n",
      "[8] Update best with -41921.15040\n",
      "[11] Update best with -7481.63255\n",
      "[13] Update best with -1374.05911\n",
      "[15] Update best with -1197.31564\n",
      "[19] Update best with -1125.79168\n",
      "[20] Update best with -1113.52752\n",
      "[27] Update best with -1091.82596\n",
      "[35] Update best with -1077.62535\n",
      "[40] Update best with -1054.76056\n",
      "[43] Update best with -1027.03669\n",
      "[50] Update best with -1017.04277\n",
      "[56] Update best with -1011.49678\n",
      "[67] Update best with -1011.39376\n",
      "[70] Update best with -1010.85795\n",
      "[71] Update best with -1006.51018\n",
      "[79] Update best with -977.11831\n",
      "Exporting to file:  drawer/data/export_GeneticAlgorithm_generations_5.csv\n"
     ]
    }
   ],
   "source": [
    "ga_evaluator = ga_hyper.optimize_top5(50, 100, seed=12)"
   ]
  },
  {
   "cell_type": "code",
   "execution_count": 11,
   "metadata": {},
   "outputs": [
    {
     "data": {
      "image/png": "[encoded data removed]",
      "text/plain": [
       "<Figure size 640x480 with 1 Axes>"
      ]
     },
     "metadata": {},
     "output_type": "display_data"
    }
   ],
   "source": [
    "visualize_fitness(GeneticAlgorithm(GoalEvaluator))"
   ]
  }
 ],
 "metadata": {
  "kernelspec": {
   "display_name": "NPMP2",
   "language": "python",
   "name": "python3"
  },
  "language_info": {
   "codemirror_mode": {
    "name": "ipython",
    "version": 3
   },
   "file_extension": ".py",
   "mimetype": "text/x-python",
   "name": "python",
   "nbconvert_exporter": "python",
   "pygments_lexer": "ipython3",
   "version": "3.10.13"
  }
 },
 "nbformat": 4,
 "nbformat_minor": 2
}
